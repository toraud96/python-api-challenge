{
 "cells": [
  {
   "cell_type": "markdown",
   "metadata": {},
   "source": [
    "# WeatherPy\n",
    "----\n",
    "\n",
    "#### Note\n",
    "* Instructions have been included for each segment. You do not have to follow them exactly, but they are included to help you think through the steps."
   ]
  },
  {
   "cell_type": "code",
   "execution_count": 1,
   "metadata": {
    "scrolled": true
   },
   "outputs": [],
   "source": [
    "# Dependencies and Setup\n",
    "import matplotlib.pyplot as plt\n",
    "import pandas as pd\n",
    "import numpy as np\n",
    "import requests\n",
    "import time\n",
    "from scipy.stats import linregress\n",
    "\n",
    "# Import API key\n",
    "from api_keys import weather_api_key\n",
    "\n",
    "# Incorporated citipy to determine city based on latitude and longitude\n",
    "from citipy import citipy\n",
    "\n",
    "# Output File (CSV)\n",
    "output_data_file = \"output_data/cities.csv\"\n",
    "\n",
    "# Range of latitudes and longitudes\n",
    "lat_range = (-90, 90)\n",
    "lng_range = (-180, 180)"
   ]
  },
  {
   "cell_type": "markdown",
   "metadata": {},
   "source": [
    "## Generate Cities List"
   ]
  },
  {
   "cell_type": "code",
   "execution_count": 2,
   "metadata": {},
   "outputs": [
    {
     "data": {
      "text/plain": [
       "627"
      ]
     },
     "execution_count": 2,
     "metadata": {},
     "output_type": "execute_result"
    }
   ],
   "source": [
    "# List for holding lat_lngs and cities\n",
    "lat_lngs = []\n",
    "cities = []\n",
    "\n",
    "# Create a set of random lat and lng combinations\n",
    "lats = np.random.uniform(low=-90.000, high=90.000, size=1500)\n",
    "lngs = np.random.uniform(low=-180.000, high=180.000, size=1500)\n",
    "lat_lngs = zip(lats, lngs)\n",
    "\n",
    "# Identify nearest city for each lat, lng combination\n",
    "for lat_lng in lat_lngs:\n",
    "    city = citipy.nearest_city(lat_lng[0], lat_lng[1]).city_name\n",
    "    \n",
    "    # If the city is unique, then add it to a our cities list\n",
    "    if city not in cities:\n",
    "        cities.append(city)\n",
    "\n",
    "# Print the city count to confirm sufficient count\n",
    "len(cities)"
   ]
  },
  {
   "cell_type": "markdown",
   "metadata": {},
   "source": [
    "### Perform API Calls\n",
    "* Perform a weather check on each city using a series of successive API calls.\n",
    "* Include a print log of each city as it'sbeing processed (with the city number and city name).\n"
   ]
  },
  {
   "cell_type": "code",
   "execution_count": 3,
   "metadata": {},
   "outputs": [
    {
     "name": "stdout",
     "output_type": "stream",
     "text": [
      "Beginning Data Retrieval\n",
      "------------------------\n",
      "Processing Record 1 of Set 1 | coihueco\n",
      "Processing Record 2 of Set 1 | kruisfontein\n",
      "Processing Record 3 of Set 1 | martapura\n",
      "Processing Record 4 of Set 1 | alice springs\n",
      "Processing Record 5 of Set 1 | poum\n",
      "Processing Record 6 of Set 1 | rikitea\n",
      "Processing Record 7 of Set 1 | kapaa\n",
      "Processing Record 8 of Set 1 | nagar karnul\n",
      "Processing Record 9 of Set 1 | vaini\n",
      "Processing Record 10 of Set 1 | baker city\n",
      "Processing Record 11 of Set 1 | sao filipe\n",
      "Processing Record 12 of Set 1 | lebu\n",
      "Processing Record 13 of Set 1 | nikolskoye\n",
      "Processing Record 14 of Set 1 | tuatapere\n",
      "Processing Record 15 of Set 1 | hobart\n",
      "Processing Record 16 of Set 1 | mahebourg\n",
      "Processing Record 17 of Set 1 | silver city\n",
      "Processing Record 18 of Set 1 | busselton\n",
      "Processing Record 19 of Set 1 | severo-kurilsk\n",
      "Processing Record 20 of Set 1 | jalu\n",
      "Processing Record 21 of Set 1 | soe\n",
      "Processing Record 22 of Set 1 | mataura\n",
      "Processing Record 23 of Set 1 | egvekinot\n",
      "Processing Record 24 of Set 1 | kavieng\n",
      "Processing Record 25 of Set 1 | ushuaia\n",
      "Processing Record 26 of Set 1 | cherskiy\n",
      "Processing Record 27 of Set 1 | necochea\n",
      "Processing Record 28 of Set 1 | aden\n",
      "Processing Record 29 of Set 1 | albany\n",
      "Processing Record 30 of Set 1 | galway\n",
      "Processing Record 31 of Set 1 | saint-philippe\n",
      "Processing Record 32 of Set 1 | darhan\n",
      "Processing Record 33 of Set 1 | awjilah\n",
      "Processing Record 34 of Set 1 | dikson\n",
      "Processing Record 35 of Set 1 | carnarvon\n",
      "Processing Record 36 of Set 1 | lesnoy\n",
      "Processing Record 37 of Set 1 | mar del plata\n",
      "Processing Record 38 of Set 1 | linjiang\n",
      "Processing Record 39 of Set 1 | tuktoyaktuk\n",
      "Processing Record 40 of Set 1 | talnakh\n",
      "Processing Record 41 of Set 1 | punta arenas\n",
      "Processing Record 42 of Set 1 | hermanus\n",
      "Processing Record 43 of Set 1 | sept-iles\n",
      "Processing Record 44 of Set 1 | upata\n",
      "Processing Record 45 of Set 1 | victoria\n",
      "Processing Record 46 of Set 1 | tokur\n",
      "Processing Record 47 of Set 1 | santa marta de tormes\n",
      "Processing Record 48 of Set 1 | port alfred\n",
      "Processing Record 49 of Set 1 | port blair\n",
      "Processing Record 50 of Set 1 | luan\n",
      "Processing Record 0 of Set 2 | taolanaro\n",
      "no city\n",
      "Processing Record 1 of Set 2 | mount pleasant\n",
      "Processing Record 2 of Set 2 | saleaula\n",
      "no city\n",
      "Processing Record 3 of Set 2 | bluff\n",
      "Processing Record 4 of Set 2 | dhidhdhoo\n",
      "Processing Record 5 of Set 2 | yellowknife\n",
      "Processing Record 6 of Set 2 | liberal\n",
      "Processing Record 7 of Set 2 | hilo\n",
      "Processing Record 8 of Set 2 | san patricio\n",
      "Processing Record 9 of Set 2 | vardo\n",
      "Processing Record 10 of Set 2 | ngukurr\n",
      "no city\n",
      "Processing Record 11 of Set 2 | iralaya\n",
      "Processing Record 12 of Set 2 | iqaluit\n",
      "Processing Record 13 of Set 2 | port lincoln\n",
      "Processing Record 14 of Set 2 | neryungri\n",
      "Processing Record 15 of Set 2 | qaanaaq\n",
      "Processing Record 16 of Set 2 | upernavik\n",
      "Processing Record 17 of Set 2 | illoqqortoormiut\n",
      "no city\n",
      "Processing Record 18 of Set 2 | san jeronimo\n",
      "Processing Record 19 of Set 2 | salalah\n",
      "Processing Record 20 of Set 2 | bredasdorp\n",
      "Processing Record 21 of Set 2 | saint-georges\n",
      "Processing Record 22 of Set 2 | chokurdakh\n",
      "Processing Record 23 of Set 2 | emporia\n",
      "Processing Record 24 of Set 2 | new norfolk\n",
      "Processing Record 25 of Set 2 | shadegan\n",
      "Processing Record 26 of Set 2 | naron\n",
      "Processing Record 27 of Set 2 | wadi maliz\n",
      "Processing Record 28 of Set 2 | kattivakkam\n",
      "Processing Record 29 of Set 2 | samarinda\n",
      "Processing Record 30 of Set 2 | barrow\n",
      "Processing Record 31 of Set 2 | tsihombe\n",
      "no city\n",
      "Processing Record 32 of Set 2 | puerto ayora\n",
      "Processing Record 33 of Set 2 | hameenlinna\n",
      "Processing Record 34 of Set 2 | aitape\n",
      "Processing Record 35 of Set 2 | pangnirtung\n",
      "Processing Record 36 of Set 2 | kogon\n",
      "Processing Record 37 of Set 2 | mehamn\n",
      "Processing Record 38 of Set 2 | shingu\n",
      "Processing Record 39 of Set 2 | grao mogol\n",
      "Processing Record 40 of Set 2 | giyani\n",
      "Processing Record 41 of Set 2 | yaguajay\n",
      "Processing Record 42 of Set 2 | thompson\n",
      "Processing Record 43 of Set 2 | namtsy\n",
      "Processing Record 44 of Set 2 | cape town\n",
      "Processing Record 45 of Set 2 | tooele\n",
      "Processing Record 46 of Set 2 | kutum\n",
      "Processing Record 47 of Set 2 | pundaguitan\n",
      "Processing Record 48 of Set 2 | esperance\n",
      "Processing Record 49 of Set 2 | palabuhanratu\n",
      "no city\n",
      "Processing Record 0 of Set 3 | kailua\n",
      "Processing Record 1 of Set 3 | matara\n",
      "Processing Record 2 of Set 3 | tiksi\n",
      "Processing Record 3 of Set 3 | novobirilyussy\n",
      "Processing Record 4 of Set 3 | thoen\n",
      "Processing Record 5 of Set 3 | kodiak\n",
      "Processing Record 6 of Set 3 | metu\n",
      "Processing Record 7 of Set 3 | yar-sale\n",
      "Processing Record 8 of Set 3 | cabo san lucas\n",
      "Processing Record 9 of Set 3 | te anau\n",
      "Processing Record 10 of Set 3 | gamba\n",
      "Processing Record 11 of Set 3 | saldanha\n",
      "Processing Record 12 of Set 3 | hithadhoo\n",
      "Processing Record 13 of Set 3 | bandipur\n",
      "Processing Record 14 of Set 3 | arraial do cabo\n",
      "Processing Record 15 of Set 3 | bambous virieux\n",
      "Processing Record 16 of Set 3 | juneau\n",
      "Processing Record 17 of Set 3 | jamestown\n",
      "Processing Record 18 of Set 3 | chilchota\n",
      "Processing Record 19 of Set 3 | cap malheureux\n",
      "Processing Record 20 of Set 3 | simpsonville\n",
      "Processing Record 21 of Set 3 | bengkulu\n",
      "Processing Record 22 of Set 3 | walvis bay\n",
      "Processing Record 23 of Set 3 | tasiilaq\n",
      "Processing Record 24 of Set 3 | ust-ilimsk\n",
      "Processing Record 25 of Set 3 | khorramabad\n",
      "Processing Record 26 of Set 3 | faanui\n",
      "Processing Record 27 of Set 3 | aksu\n",
      "Processing Record 28 of Set 3 | baghdad\n",
      "Processing Record 29 of Set 3 | dunedin\n",
      "Processing Record 30 of Set 3 | nuqui\n",
      "Processing Record 31 of Set 3 | east london\n",
      "Processing Record 32 of Set 3 | avarua\n",
      "Processing Record 33 of Set 3 | grand gaube\n",
      "Processing Record 34 of Set 3 | sfantu gheorghe\n",
      "Processing Record 35 of Set 3 | marquette\n",
      "Processing Record 36 of Set 3 | hualmay\n",
      "Processing Record 37 of Set 3 | kalaleh\n",
      "Processing Record 38 of Set 3 | arauco\n",
      "Processing Record 39 of Set 3 | roebourne\n",
      "Processing Record 40 of Set 3 | castro\n",
      "Processing Record 41 of Set 3 | bethel\n",
      "Processing Record 42 of Set 3 | butaritari\n",
      "Processing Record 43 of Set 3 | provideniya\n",
      "Processing Record 44 of Set 3 | ponta do sol\n",
      "Processing Record 45 of Set 3 | ahipara\n",
      "Processing Record 46 of Set 3 | kodinar\n",
      "Processing Record 47 of Set 3 | chara\n",
      "Processing Record 48 of Set 3 | cidreira\n",
      "Processing Record 49 of Set 3 | asau\n",
      "Processing Record 0 of Set 4 | shar\n",
      "Processing Record 1 of Set 4 | verkhneyarkeyevo\n",
      "Processing Record 2 of Set 4 | lumberton\n",
      "Processing Record 3 of Set 4 | tam ky\n",
      "Processing Record 4 of Set 4 | lazaro cardenas\n",
      "Processing Record 5 of Set 4 | southbridge\n",
      "Processing Record 6 of Set 4 | coihaique\n",
      "Processing Record 7 of Set 4 | belmonte\n",
      "Processing Record 8 of Set 4 | vallenar\n",
      "Processing Record 9 of Set 4 | tadine\n",
      "Processing Record 10 of Set 4 | atuona\n",
      "Processing Record 11 of Set 4 | ankang\n",
      "Processing Record 12 of Set 4 | honiara\n",
      "Processing Record 13 of Set 4 | alofi\n",
      "Processing Record 14 of Set 4 | portland\n",
      "Processing Record 15 of Set 4 | longyearbyen\n",
      "Processing Record 16 of Set 4 | saskylakh\n",
      "Processing Record 17 of Set 4 | shalinskoye\n",
      "Processing Record 18 of Set 4 | pevek\n",
      "Processing Record 19 of Set 4 | guapore\n",
      "Processing Record 20 of Set 4 | touros\n",
      "Processing Record 21 of Set 4 | toba tek singh\n",
      "Processing Record 22 of Set 4 | san lawrenz\n",
      "Processing Record 23 of Set 4 | santa maria\n",
      "Processing Record 24 of Set 4 | padang\n",
      "Processing Record 25 of Set 4 | bac lieu\n",
      "Processing Record 26 of Set 4 | allapalli\n",
      "Processing Record 27 of Set 4 | concord\n",
      "Processing Record 28 of Set 4 | saint george\n",
      "Processing Record 29 of Set 4 | novyy urengoy\n",
      "Processing Record 30 of Set 4 | puerto escondido\n",
      "Processing Record 31 of Set 4 | klaksvik\n",
      "Processing Record 32 of Set 4 | natal\n",
      "Processing Record 33 of Set 4 | samusu\n",
      "no city\n",
      "Processing Record 34 of Set 4 | prainha\n",
      "Processing Record 35 of Set 4 | guerrero negro\n",
      "Processing Record 36 of Set 4 | kalianget\n",
      "Processing Record 37 of Set 4 | huarmey\n",
      "Processing Record 38 of Set 4 | ribeira grande\n",
      "Processing Record 39 of Set 4 | sentyabrskiy\n",
      "no city\n",
      "Processing Record 40 of Set 4 | majene\n",
      "Processing Record 41 of Set 4 | sabang\n",
      "Processing Record 42 of Set 4 | mbekenyera\n",
      "Processing Record 43 of Set 4 | kharan\n",
      "Processing Record 44 of Set 4 | college\n",
      "Processing Record 45 of Set 4 | san cristobal\n"
     ]
    },
    {
     "name": "stdout",
     "output_type": "stream",
     "text": [
      "Processing Record 46 of Set 4 | roald\n",
      "Processing Record 47 of Set 4 | aswan\n",
      "Processing Record 48 of Set 4 | jiwani\n",
      "Processing Record 49 of Set 4 | airai\n",
      "Processing Record 0 of Set 5 | flinders\n",
      "Processing Record 1 of Set 5 | kushiro\n",
      "Processing Record 2 of Set 5 | tubruq\n",
      "no city\n",
      "Processing Record 3 of Set 5 | khatanga\n",
      "Processing Record 4 of Set 5 | ko samui\n",
      "Processing Record 5 of Set 5 | atikokan\n",
      "Processing Record 6 of Set 5 | porto novo\n",
      "Processing Record 7 of Set 5 | kontagora\n",
      "Processing Record 8 of Set 5 | namibe\n",
      "Processing Record 9 of Set 5 | broken hill\n",
      "Processing Record 10 of Set 5 | tezu\n",
      "Processing Record 11 of Set 5 | lorengau\n",
      "Processing Record 12 of Set 5 | zemio\n",
      "Processing Record 13 of Set 5 | benemerito de las americas\n",
      "Processing Record 14 of Set 5 | villa union\n",
      "Processing Record 15 of Set 5 | waddan\n",
      "Processing Record 16 of Set 5 | vila velha\n",
      "Processing Record 17 of Set 5 | lisala\n",
      "Processing Record 18 of Set 5 | nizwa\n",
      "Processing Record 19 of Set 5 | vestmanna\n",
      "Processing Record 20 of Set 5 | inirida\n",
      "Processing Record 21 of Set 5 | celestun\n",
      "Processing Record 22 of Set 5 | pitimbu\n",
      "Processing Record 23 of Set 5 | nemuro\n",
      "Processing Record 24 of Set 5 | lata\n",
      "Processing Record 25 of Set 5 | agadez\n",
      "Processing Record 26 of Set 5 | smestad\n",
      "Processing Record 27 of Set 5 | visnes\n",
      "Processing Record 28 of Set 5 | presidencia roque saenz pena\n",
      "Processing Record 29 of Set 5 | atar\n",
      "Processing Record 30 of Set 5 | spring hill\n",
      "Processing Record 31 of Set 5 | mbandaka\n",
      "Processing Record 32 of Set 5 | port elizabeth\n",
      "Processing Record 33 of Set 5 | aykhal\n",
      "Processing Record 34 of Set 5 | port-gentil\n",
      "Processing Record 35 of Set 5 | barentsburg\n",
      "no city\n",
      "Processing Record 36 of Set 5 | tiznit\n",
      "Processing Record 37 of Set 5 | codrington\n",
      "Processing Record 38 of Set 5 | ilulissat\n",
      "Processing Record 39 of Set 5 | siauliai\n",
      "Processing Record 40 of Set 5 | nome\n",
      "Processing Record 41 of Set 5 | lompoc\n",
      "Processing Record 42 of Set 5 | belushya guba\n",
      "no city\n",
      "Processing Record 43 of Set 5 | georgetown\n",
      "Processing Record 44 of Set 5 | yanchukan\n",
      "no city\n",
      "Processing Record 45 of Set 5 | chuy\n",
      "Processing Record 46 of Set 5 | khor\n",
      "Processing Record 47 of Set 5 | damphu\n",
      "Processing Record 48 of Set 5 | karaul\n",
      "no city\n",
      "Processing Record 49 of Set 5 | anadyr\n",
      "Processing Record 0 of Set 6 | mrirt\n",
      "no city\n",
      "Processing Record 1 of Set 6 | teya\n",
      "Processing Record 2 of Set 6 | kedrovyy\n",
      "Processing Record 3 of Set 6 | lao cai\n",
      "Processing Record 4 of Set 6 | katsuura\n",
      "Processing Record 5 of Set 6 | butka\n",
      "Processing Record 6 of Set 6 | brae\n",
      "Processing Record 7 of Set 6 | santa vitoria do palmar\n",
      "Processing Record 8 of Set 6 | pontal do parana\n",
      "Processing Record 9 of Set 6 | mobaye\n",
      "Processing Record 10 of Set 6 | ruatoria\n",
      "no city\n",
      "Processing Record 11 of Set 6 | bacuit\n",
      "no city\n",
      "Processing Record 12 of Set 6 | port hardy\n",
      "Processing Record 13 of Set 6 | dengzhou\n",
      "Processing Record 14 of Set 6 | ransang\n",
      "Processing Record 15 of Set 6 | kolaras\n",
      "Processing Record 16 of Set 6 | vengerovo\n",
      "Processing Record 17 of Set 6 | muisne\n",
      "Processing Record 18 of Set 6 | oussouye\n",
      "Processing Record 19 of Set 6 | rocha\n",
      "Processing Record 20 of Set 6 | puerto baquerizo moreno\n",
      "Processing Record 21 of Set 6 | ziro\n",
      "Processing Record 22 of Set 6 | betare oya\n",
      "Processing Record 23 of Set 6 | liverpool\n",
      "Processing Record 24 of Set 6 | galle\n",
      "Processing Record 25 of Set 6 | constitucion\n",
      "Processing Record 26 of Set 6 | vila\n",
      "Processing Record 27 of Set 6 | the valley\n",
      "Processing Record 28 of Set 6 | vung tau\n",
      "Processing Record 29 of Set 6 | kaitangata\n",
      "Processing Record 30 of Set 6 | kapitanivka\n",
      "Processing Record 31 of Set 6 | koshurnikovo\n",
      "Processing Record 32 of Set 6 | leningradskiy\n",
      "Processing Record 33 of Set 6 | shu\n",
      "Processing Record 34 of Set 6 | sovetskiy\n",
      "Processing Record 35 of Set 6 | rio grande\n",
      "Processing Record 36 of Set 6 | ahuimanu\n",
      "Processing Record 37 of Set 6 | fortuna\n",
      "Processing Record 38 of Set 6 | toliary\n",
      "no city\n",
      "Processing Record 39 of Set 6 | sitka\n",
      "Processing Record 40 of Set 6 | malibu\n",
      "Processing Record 41 of Set 6 | warqla\n",
      "no city\n",
      "Processing Record 42 of Set 6 | hasaki\n",
      "Processing Record 43 of Set 6 | norman wells\n",
      "Processing Record 44 of Set 6 | adrar\n",
      "Processing Record 45 of Set 6 | arecibo\n",
      "Processing Record 46 of Set 6 | muros\n",
      "Processing Record 47 of Set 6 | zima\n",
      "Processing Record 48 of Set 6 | howard springs\n",
      "Processing Record 49 of Set 6 | san bartolome de tirajana\n",
      "Processing Record 0 of Set 7 | mudgee\n",
      "Processing Record 1 of Set 7 | vigrestad\n",
      "Processing Record 2 of Set 7 | kulynychi\n",
      "Processing Record 3 of Set 7 | wulanhaote\n",
      "no city\n",
      "Processing Record 4 of Set 7 | saint-augustin\n",
      "Processing Record 5 of Set 7 | saint-pierre\n",
      "Processing Record 6 of Set 7 | qaqortoq\n",
      "Processing Record 7 of Set 7 | korla\n",
      "Processing Record 8 of Set 7 | wahiawa\n",
      "Processing Record 9 of Set 7 | bargal\n",
      "no city\n",
      "Processing Record 10 of Set 7 | kresttsy\n",
      "Processing Record 11 of Set 7 | sechura\n",
      "Processing Record 12 of Set 7 | lodja\n",
      "Processing Record 13 of Set 7 | georgiyevka\n",
      "Processing Record 14 of Set 7 | bereznik\n",
      "Processing Record 15 of Set 7 | anori\n",
      "Processing Record 16 of Set 7 | casper\n",
      "Processing Record 17 of Set 7 | gigmoto\n",
      "Processing Record 18 of Set 7 | hrinova\n",
      "Processing Record 19 of Set 7 | darab\n",
      "Processing Record 20 of Set 7 | amderma\n",
      "no city\n",
      "Processing Record 21 of Set 7 | verkhnevilyuysk\n",
      "Processing Record 22 of Set 7 | carroll\n",
      "Processing Record 23 of Set 7 | port macquarie\n",
      "Processing Record 24 of Set 7 | marrakesh\n",
      "Processing Record 25 of Set 7 | praia da vitoria\n",
      "Processing Record 26 of Set 7 | polson\n",
      "Processing Record 27 of Set 7 | camp verde\n",
      "Processing Record 28 of Set 7 | veraval\n",
      "Processing Record 29 of Set 7 | severomuysk\n",
      "Processing Record 30 of Set 7 | ardesen\n",
      "Processing Record 31 of Set 7 | dinanagar\n",
      "Processing Record 32 of Set 7 | kangaatsiaq\n",
      "Processing Record 33 of Set 7 | aripuana\n",
      "Processing Record 34 of Set 7 | dingle\n",
      "Processing Record 35 of Set 7 | isangel\n",
      "Processing Record 36 of Set 7 | suzu\n",
      "no city\n",
      "Processing Record 37 of Set 7 | dutlwe\n",
      "Processing Record 38 of Set 7 | komsomolskiy\n",
      "Processing Record 39 of Set 7 | ratnapura\n",
      "Processing Record 40 of Set 7 | banmo\n",
      "no city\n",
      "Processing Record 41 of Set 7 | sioux lookout\n",
      "Processing Record 42 of Set 7 | khash\n",
      "Processing Record 43 of Set 7 | gusev\n",
      "Processing Record 44 of Set 7 | podosinovets\n",
      "Processing Record 45 of Set 7 | jeremoabo\n",
      "Processing Record 46 of Set 7 | lumsden\n",
      "Processing Record 47 of Set 7 | camacha\n",
      "Processing Record 48 of Set 7 | vega de alatorre\n",
      "Processing Record 49 of Set 7 | elko\n",
      "Processing Record 0 of Set 8 | irawan\n",
      "Processing Record 1 of Set 8 | hay river\n",
      "Processing Record 2 of Set 8 | zastron\n",
      "Processing Record 3 of Set 8 | waldoboro\n",
      "Processing Record 4 of Set 8 | catumbela\n",
      "Processing Record 5 of Set 8 | marawi\n",
      "Processing Record 6 of Set 8 | angra\n",
      "no city\n",
      "Processing Record 7 of Set 8 | maniitsoq\n",
      "Processing Record 8 of Set 8 | swan hill\n",
      "Processing Record 9 of Set 8 | meulaboh\n",
      "Processing Record 10 of Set 8 | polovinnoye\n",
      "Processing Record 11 of Set 8 | artyk\n",
      "no city\n",
      "Processing Record 12 of Set 8 | mattru\n",
      "Processing Record 13 of Set 8 | khandyga\n",
      "Processing Record 14 of Set 8 | awbari\n",
      "Processing Record 15 of Set 8 | pedasi\n",
      "Processing Record 16 of Set 8 | nadaun\n",
      "Processing Record 17 of Set 8 | narsaq\n",
      "Processing Record 18 of Set 8 | lavrentiya\n",
      "Processing Record 19 of Set 8 | matay\n",
      "Processing Record 20 of Set 8 | souillac\n",
      "Processing Record 21 of Set 8 | nizhneyansk\n",
      "no city\n",
      "Processing Record 22 of Set 8 | santa cruz\n",
      "Processing Record 23 of Set 8 | mount isa\n",
      "Processing Record 24 of Set 8 | jumla\n",
      "Processing Record 25 of Set 8 | kamen-na-obi\n",
      "Processing Record 26 of Set 8 | saint-joseph\n",
      "Processing Record 27 of Set 8 | dalby\n",
      "Processing Record 28 of Set 8 | mergui\n",
      "no city\n",
      "Processing Record 29 of Set 8 | magaria\n",
      "Processing Record 30 of Set 8 | shanhetun\n",
      "Processing Record 31 of Set 8 | guhagar\n",
      "Processing Record 32 of Set 8 | concepcion del oro\n",
      "Processing Record 33 of Set 8 | pandan\n",
      "Processing Record 34 of Set 8 | patharia\n",
      "Processing Record 35 of Set 8 | peace river\n",
      "Processing Record 36 of Set 8 | otane\n",
      "Processing Record 37 of Set 8 | lufilufi\n",
      "Processing Record 38 of Set 8 | marcona\n",
      "no city\n",
      "Processing Record 39 of Set 8 | la ronge\n",
      "Processing Record 40 of Set 8 | lulea\n",
      "Processing Record 41 of Set 8 | half moon bay\n"
     ]
    },
    {
     "name": "stdout",
     "output_type": "stream",
     "text": [
      "Processing Record 42 of Set 8 | sajanan\n",
      "Processing Record 43 of Set 8 | sainte-rose\n",
      "Processing Record 44 of Set 8 | tibu\n",
      "Processing Record 45 of Set 8 | tyshkivka\n",
      "Processing Record 46 of Set 8 | stokmarknes\n",
      "Processing Record 47 of Set 8 | goteborg\n",
      "no city\n",
      "Processing Record 48 of Set 8 | paka\n",
      "Processing Record 49 of Set 8 | makakilo city\n",
      "Processing Record 0 of Set 9 | vao\n",
      "Processing Record 1 of Set 9 | okha\n",
      "Processing Record 2 of Set 9 | ponta delgada\n",
      "Processing Record 3 of Set 9 | nioki\n",
      "Processing Record 4 of Set 9 | warwick\n",
      "Processing Record 5 of Set 9 | mys shmidta\n",
      "no city\n",
      "Processing Record 6 of Set 9 | les cayes\n",
      "Processing Record 7 of Set 9 | griffith\n",
      "Processing Record 8 of Set 9 | laguna\n",
      "Processing Record 9 of Set 9 | honningsvag\n",
      "Processing Record 10 of Set 9 | srednekolymsk\n",
      "Processing Record 11 of Set 9 | goderich\n",
      "Processing Record 12 of Set 9 | vestmannaeyjar\n",
      "Processing Record 13 of Set 9 | jizan\n",
      "Processing Record 14 of Set 9 | krasnoye\n",
      "Processing Record 15 of Set 9 | port hueneme\n",
      "Processing Record 16 of Set 9 | phan thiet\n",
      "Processing Record 17 of Set 9 | houston\n",
      "Processing Record 18 of Set 9 | naze\n",
      "Processing Record 19 of Set 9 | ostersund\n",
      "Processing Record 20 of Set 9 | namatanai\n",
      "Processing Record 21 of Set 9 | tehachapi\n",
      "Processing Record 22 of Set 9 | grand river south east\n",
      "no city\n",
      "Processing Record 23 of Set 9 | paratinga\n",
      "Processing Record 24 of Set 9 | nefteyugansk\n",
      "Processing Record 25 of Set 9 | geraldton\n",
      "Processing Record 26 of Set 9 | puerto narino\n",
      "Processing Record 27 of Set 9 | aklavik\n",
      "Processing Record 28 of Set 9 | sur\n",
      "Processing Record 29 of Set 9 | ndende\n",
      "Processing Record 30 of Set 9 | rock springs\n",
      "Processing Record 31 of Set 9 | tres arroyos\n",
      "Processing Record 32 of Set 9 | kamenskoye\n",
      "no city\n",
      "Processing Record 33 of Set 9 | machico\n",
      "Processing Record 34 of Set 9 | aqtobe\n",
      "Processing Record 35 of Set 9 | kaeo\n",
      "Processing Record 36 of Set 9 | gweta\n",
      "Processing Record 37 of Set 9 | nanortalik\n",
      "Processing Record 38 of Set 9 | kodinsk\n",
      "Processing Record 39 of Set 9 | dakar\n",
      "Processing Record 40 of Set 9 | williams lake\n",
      "Processing Record 41 of Set 9 | seoni malwa\n",
      "Processing Record 42 of Set 9 | soure\n",
      "Processing Record 43 of Set 9 | kosonsoy\n",
      "Processing Record 44 of Set 9 | valparaiso\n",
      "Processing Record 45 of Set 9 | dzhusaly\n",
      "no city\n",
      "Processing Record 46 of Set 9 | lakes entrance\n",
      "Processing Record 47 of Set 9 | maputo\n",
      "Processing Record 48 of Set 9 | ostrovnoy\n",
      "Processing Record 49 of Set 9 | ulaanbaatar\n",
      "Processing Record 0 of Set 10 | kirakira\n",
      "Processing Record 1 of Set 10 | sao joao da barra\n",
      "Processing Record 2 of Set 10 | hit\n",
      "Processing Record 3 of Set 10 | candawaga\n",
      "no city\n",
      "Processing Record 4 of Set 10 | kota bahru\n",
      "Processing Record 5 of Set 10 | wenling\n",
      "Processing Record 6 of Set 10 | santa catarina ixtahuacan\n",
      "Processing Record 7 of Set 10 | guarapari\n",
      "Processing Record 8 of Set 10 | dalian\n",
      "Processing Record 9 of Set 10 | hofn\n",
      "Processing Record 10 of Set 10 | boa vista\n",
      "Processing Record 11 of Set 10 | moratuwa\n",
      "Processing Record 12 of Set 10 | coahuayana\n",
      "Processing Record 13 of Set 10 | jacqueville\n",
      "Processing Record 14 of Set 10 | raymond\n",
      "Processing Record 15 of Set 10 | lolua\n",
      "no city\n",
      "Processing Record 16 of Set 10 | longlac\n",
      "no city\n",
      "Processing Record 17 of Set 10 | itoman\n",
      "Processing Record 18 of Set 10 | kerrville\n",
      "Processing Record 19 of Set 10 | pacific grove\n",
      "Processing Record 20 of Set 10 | lebanon\n",
      "Processing Record 21 of Set 10 | margate\n",
      "Processing Record 22 of Set 10 | tambura\n",
      "Processing Record 23 of Set 10 | macusani\n",
      "Processing Record 24 of Set 10 | lalibela\n",
      "Processing Record 25 of Set 10 | richards bay\n",
      "Processing Record 26 of Set 10 | dyer\n",
      "Processing Record 27 of Set 10 | kandalaksha\n",
      "Processing Record 28 of Set 10 | sorland\n",
      "Processing Record 29 of Set 10 | asyut\n",
      "Processing Record 30 of Set 10 | keokuk\n",
      "Processing Record 31 of Set 10 | muzquiz\n",
      "no city\n",
      "Processing Record 32 of Set 10 | sistranda\n",
      "Processing Record 33 of Set 10 | wanning\n",
      "Processing Record 34 of Set 10 | vaitupu\n",
      "no city\n",
      "Processing Record 35 of Set 10 | katherine\n",
      "Processing Record 36 of Set 10 | cayenne\n",
      "Processing Record 37 of Set 10 | bolungarvik\n",
      "no city\n",
      "Processing Record 38 of Set 10 | sal rei\n",
      "Processing Record 39 of Set 10 | kenora\n",
      "Processing Record 40 of Set 10 | nabire\n",
      "Processing Record 41 of Set 10 | anloga\n",
      "Processing Record 42 of Set 10 | abu jubayhah\n",
      "no city\n",
      "Processing Record 43 of Set 10 | khorixas\n",
      "Processing Record 44 of Set 10 | promyshlennaya\n",
      "Processing Record 45 of Set 10 | palmer\n",
      "Processing Record 46 of Set 10 | rauma\n",
      "Processing Record 47 of Set 10 | santa eulalia del rio\n",
      "no city\n",
      "Processing Record 48 of Set 10 | caravelas\n",
      "Processing Record 49 of Set 10 | san francisco\n",
      "Processing Record 0 of Set 11 | owando\n",
      "Processing Record 1 of Set 11 | veracruz\n",
      "Processing Record 2 of Set 11 | ahmadpur east\n",
      "Processing Record 3 of Set 11 | nichinan\n",
      "Processing Record 4 of Set 11 | ishikari\n",
      "Processing Record 5 of Set 11 | challans\n",
      "Processing Record 6 of Set 11 | garowe\n",
      "Processing Record 7 of Set 11 | acapulco\n",
      "Processing Record 8 of Set 11 | ambo\n",
      "Processing Record 9 of Set 11 | carauari\n",
      "Processing Record 10 of Set 11 | mgandu\n",
      "Processing Record 11 of Set 11 | bud\n",
      "Processing Record 12 of Set 11 | udachnyy\n",
      "Processing Record 13 of Set 11 | cedar city\n",
      "Processing Record 14 of Set 11 | marovoay\n",
      "Processing Record 15 of Set 11 | manggar\n",
      "Processing Record 16 of Set 11 | zeya\n",
      "Processing Record 17 of Set 11 | rawson\n",
      "Processing Record 18 of Set 11 | gutierrez zamora\n",
      "Processing Record 19 of Set 11 | san juan\n",
      "Processing Record 20 of Set 11 | olinda\n",
      "Processing Record 21 of Set 11 | bosilegrad\n",
      "Processing Record 22 of Set 11 | gornopravdinsk\n",
      "Processing Record 23 of Set 11 | vanavara\n",
      "Processing Record 24 of Set 11 | taraza\n",
      "Processing Record 25 of Set 11 | lusaka\n",
      "Processing Record 26 of Set 11 | waingapu\n",
      "Processing Record 27 of Set 11 | lannion\n",
      "Processing Record 28 of Set 11 | saint anthony\n",
      "Processing Record 29 of Set 11 | hachinohe\n",
      "Processing Record 30 of Set 11 | kedgwick\n",
      "Processing Record 31 of Set 11 | lakefield\n",
      "Processing Record 32 of Set 11 | ajdabiya\n",
      "Processing Record 33 of Set 11 | bongandanga\n",
      "Processing Record 34 of Set 11 | luderitz\n",
      "Processing Record 35 of Set 11 | oistins\n",
      "Processing Record 36 of Set 11 | kahului\n",
      "Processing Record 37 of Set 11 | langsa\n",
      "Processing Record 38 of Set 11 | buala\n",
      "Processing Record 39 of Set 11 | casa grande\n",
      "Processing Record 40 of Set 11 | sucre\n",
      "Processing Record 41 of Set 11 | morant bay\n",
      "Processing Record 42 of Set 11 | kamalia\n",
      "Processing Record 43 of Set 11 | ulaangom\n",
      "Processing Record 44 of Set 11 | matamoros\n",
      "Processing Record 45 of Set 11 | port hedland\n",
      "Processing Record 46 of Set 11 | fort dodge\n",
      "Processing Record 47 of Set 11 | pouembout\n",
      "Processing Record 48 of Set 11 | sheridan\n",
      "Processing Record 49 of Set 11 | ukiah\n",
      "Processing Record 0 of Set 12 | kamenka\n",
      "Processing Record 1 of Set 12 | waynesboro\n",
      "Processing Record 2 of Set 12 | palana\n",
      "Processing Record 3 of Set 12 | grindavik\n",
      "Processing Record 4 of Set 12 | thaton\n",
      "Processing Record 5 of Set 12 | carrollton\n",
      "Processing Record 6 of Set 12 | paris\n",
      "Processing Record 7 of Set 12 | berdigestyakh\n",
      "Processing Record 8 of Set 12 | rio gallegos\n",
      "Processing Record 9 of Set 12 | berlevag\n",
      "Processing Record 10 of Set 12 | hambantota\n",
      "Processing Record 11 of Set 12 | buckeye\n",
      "Processing Record 12 of Set 12 | plouzane\n",
      "Processing Record 13 of Set 12 | tyup\n",
      "Processing Record 14 of Set 12 | bilma\n",
      "Processing Record 15 of Set 12 | fare\n",
      "Processing Record 16 of Set 12 | husavik\n",
      "Processing Record 17 of Set 12 | clearlake\n",
      "Processing Record 18 of Set 12 | bara\n",
      "Processing Record 19 of Set 12 | prado\n",
      "Processing Record 20 of Set 12 | lapeer\n",
      "Processing Record 21 of Set 12 | toora-khem\n",
      "Processing Record 22 of Set 12 | sambava\n",
      "Processing Record 23 of Set 12 | la asuncion\n",
      "Processing Record 24 of Set 12 | tessalit\n",
      "Processing Record 25 of Set 12 | sorvag\n",
      "no city\n",
      "Processing Record 26 of Set 12 | pemangkat\n",
      "Processing Record 27 of Set 12 | torbay\n",
      "Processing Record 28 of Set 12 | talcahuano\n",
      "Processing Record 29 of Set 12 | nachalovo\n",
      "Processing Record 30 of Set 12 | sao joaquim\n",
      "Processing Record 31 of Set 12 | oga\n",
      "Processing Record 32 of Set 12 | cockburn town\n",
      "Processing Record 33 of Set 12 | kirensk\n",
      "Processing Record 34 of Set 12 | cagayan de tawi-tawi\n",
      "no city\n",
      "Processing Record 35 of Set 12 | muromtsevo\n"
     ]
    },
    {
     "name": "stdout",
     "output_type": "stream",
     "text": [
      "Processing Record 36 of Set 12 | ancud\n",
      "Processing Record 37 of Set 12 | mahibadhoo\n",
      "Processing Record 38 of Set 12 | agadir\n",
      "Processing Record 39 of Set 12 | leua\n",
      "Processing Record 40 of Set 12 | batticaloa\n",
      "Processing Record 41 of Set 12 | tinogboc\n",
      "Processing Record 42 of Set 12 | buenos aires\n",
      "Processing Record 43 of Set 12 | bayir\n",
      "Processing Record 44 of Set 12 | tibagi\n",
      "Processing Record 45 of Set 12 | formosa\n",
      "Processing Record 46 of Set 12 | bria\n",
      "Processing Record 47 of Set 12 | mayor pablo lagerenza\n",
      "Processing Record 48 of Set 12 | clyde river\n",
      "Processing Record 49 of Set 12 | chicama\n",
      "Processing Record 0 of Set 13 | iskateley\n",
      "Processing Record 1 of Set 13 | olden\n",
      "Processing Record 2 of Set 13 | ust-kulom\n",
      "Processing Record 3 of Set 13 | san carlos\n",
      "Processing Record 4 of Set 13 | saurimo\n",
      "Processing Record 5 of Set 13 | acajutla\n",
      "Processing Record 6 of Set 13 | coolum beach\n",
      "Processing Record 7 of Set 13 | oranjestad\n",
      "Processing Record 8 of Set 13 | ulladulla\n",
      "Processing Record 9 of Set 13 | zhuhai\n",
      "Processing Record 10 of Set 13 | linqing\n",
      "Processing Record 11 of Set 13 | erenhot\n",
      "Processing Record 12 of Set 13 | sipe sipe\n",
      "Processing Record 13 of Set 13 | atambua\n",
      "Processing Record 14 of Set 13 | northam\n",
      "Processing Record 15 of Set 13 | araouane\n",
      "Processing Record 16 of Set 13 | anan\n",
      "Processing Record 17 of Set 13 | alotau\n",
      "no city\n",
      "Processing Record 18 of Set 13 | krasnyy luch\n",
      "Processing Record 19 of Set 13 | tumannyy\n",
      "no city\n",
      "Processing Record 20 of Set 13 | domna\n",
      "Processing Record 21 of Set 13 | dongsheng\n",
      "Processing Record 22 of Set 13 | comodoro rivadavia\n",
      "Processing Record 23 of Set 13 | bethlehem\n",
      "Processing Record 24 of Set 13 | arlit\n",
      "Processing Record 25 of Set 13 | macamic\n",
      "Processing Record 26 of Set 13 | kavaratti\n"
     ]
    },
    {
     "data": {
      "text/plain": [
       "{'coord': {'lon': 72.64, 'lat': 10.57},\n",
       " 'weather': [{'id': 804,\n",
       "   'main': 'Clouds',\n",
       "   'description': 'overcast clouds',\n",
       "   'icon': '04d'}],\n",
       " 'base': 'model',\n",
       " 'main': {'temp': 80.98,\n",
       "  'feels_like': 86.18,\n",
       "  'temp_min': 80.98,\n",
       "  'temp_max': 80.98,\n",
       "  'pressure': 1013,\n",
       "  'humidity': 64,\n",
       "  'sea_level': 1013,\n",
       "  'grnd_level': 1013},\n",
       " 'wind': {'speed': 2.28, 'deg': 200},\n",
       " 'clouds': {'all': 100},\n",
       " 'dt': 1580003335,\n",
       " 'sys': {'country': 'IN', 'sunrise': 1580002364, 'sunset': 1580044235},\n",
       " 'timezone': 19800,\n",
       " 'id': 1267390,\n",
       " 'name': 'Kavaratti',\n",
       " 'cod': 200}"
      ]
     },
     "execution_count": 3,
     "metadata": {},
     "output_type": "execute_result"
    }
   ],
   "source": [
    "#making the url to perform calls\n",
    "url = \"http://api.openweathermap.org/data/2.5/weather?units=Imperial&APPID=\" + weather_api_key\n",
    "#creating an empty list\n",
    "list_city=[]\n",
    "record_count = 1\n",
    "set_count = 1\n",
    "#beginning print for data retrieval\n",
    "print(\"Beginning Data Retrieval\")\n",
    "print(\"------------------------\")\n",
    "#beginning the for loop for calls\n",
    "for i, city in enumerate(cities):\n",
    "    if (i%50==0 and i>=50):\n",
    "        set_count += 1\n",
    "        record_count = 0\n",
    "    print (f\"Processing Record {record_count} of Set {set_count} | {city}\")\n",
    "    record_count+=1\n",
    "    city_url = url + \"q=\" + city\n",
    "    try:\n",
    "        response = requests.get(url+'&q='+ city).json()\n",
    "        place=response['name']\n",
    "        cloudiness=response[\"clouds\"][\"all\"]\n",
    "        country=response['sys']['country']\n",
    "        date=response['dt']\n",
    "        humidity=response[\"main\"]['humidity']\n",
    "        lat=response['coord']['lat']\n",
    "        lng=response['coord']['lon']\n",
    "        max_temp=response[\"main\"]['temp_max']\n",
    "        windspeed=response['wind']['speed']\n",
    "        list_city.append({'City':place,\n",
    "                         'Cloudiness':cloudiness,\n",
    "                         'Country':country,\n",
    "                         'Date':date,\n",
    "                         'Humidity':humidity,\n",
    "                         'Lat':lat,\n",
    "                         'Lng':lng,\n",
    "                         'Max Temp':max_temp,\n",
    "                         'Wind Speed':windspeed})\n",
    "        \n",
    "    \n",
    "    except:\n",
    "        print(\"no city\")\n",
    "response"
   ]
  },
  {
   "cell_type": "code",
   "execution_count": 4,
   "metadata": {},
   "outputs": [
    {
     "data": {
      "text/plain": [
       "City          582\n",
       "Cloudiness    582\n",
       "Country       582\n",
       "Date          582\n",
       "Humidity      582\n",
       "Lat           582\n",
       "Lng           582\n",
       "Max Temp      582\n",
       "Wind Speed    582\n",
       "dtype: int64"
      ]
     },
     "execution_count": 4,
     "metadata": {},
     "output_type": "execute_result"
    }
   ],
   "source": [
    "df=pd.DataFrame(list_city)\n",
    "df.count()"
   ]
  },
  {
   "cell_type": "markdown",
   "metadata": {},
   "source": [
    "### Convert Raw Data to DataFrame\n",
    "* Export the city data into a .csv.\n",
    "* Display the DataFrame"
   ]
  },
  {
   "cell_type": "code",
   "execution_count": 5,
   "metadata": {},
   "outputs": [],
   "source": [
    "#exporting data\n",
    "df.to_csv(\"../output_data/rawdata.csv\")"
   ]
  },
  {
   "cell_type": "code",
   "execution_count": 6,
   "metadata": {},
   "outputs": [
    {
     "data": {
      "text/html": [
       "<div>\n",
       "<style scoped>\n",
       "    .dataframe tbody tr th:only-of-type {\n",
       "        vertical-align: middle;\n",
       "    }\n",
       "\n",
       "    .dataframe tbody tr th {\n",
       "        vertical-align: top;\n",
       "    }\n",
       "\n",
       "    .dataframe thead th {\n",
       "        text-align: right;\n",
       "    }\n",
       "</style>\n",
       "<table border=\"1\" class=\"dataframe\">\n",
       "  <thead>\n",
       "    <tr style=\"text-align: right;\">\n",
       "      <th></th>\n",
       "      <th>City</th>\n",
       "      <th>Cloudiness</th>\n",
       "      <th>Country</th>\n",
       "      <th>Date</th>\n",
       "      <th>Humidity</th>\n",
       "      <th>Lat</th>\n",
       "      <th>Lng</th>\n",
       "      <th>Max Temp</th>\n",
       "      <th>Wind Speed</th>\n",
       "    </tr>\n",
       "  </thead>\n",
       "  <tbody>\n",
       "    <tr>\n",
       "      <td>0</td>\n",
       "      <td>Coihueco</td>\n",
       "      <td>0</td>\n",
       "      <td>CL</td>\n",
       "      <td>1580003261</td>\n",
       "      <td>42</td>\n",
       "      <td>-36.62</td>\n",
       "      <td>-71.83</td>\n",
       "      <td>80.60</td>\n",
       "      <td>11.41</td>\n",
       "    </tr>\n",
       "    <tr>\n",
       "      <td>1</td>\n",
       "      <td>Kruisfontein</td>\n",
       "      <td>89</td>\n",
       "      <td>ZA</td>\n",
       "      <td>1580003261</td>\n",
       "      <td>87</td>\n",
       "      <td>-34.00</td>\n",
       "      <td>24.73</td>\n",
       "      <td>64.71</td>\n",
       "      <td>22.73</td>\n",
       "    </tr>\n",
       "    <tr>\n",
       "      <td>2</td>\n",
       "      <td>Martapura</td>\n",
       "      <td>40</td>\n",
       "      <td>ID</td>\n",
       "      <td>1580003161</td>\n",
       "      <td>88</td>\n",
       "      <td>-3.42</td>\n",
       "      <td>114.85</td>\n",
       "      <td>80.60</td>\n",
       "      <td>3.36</td>\n",
       "    </tr>\n",
       "    <tr>\n",
       "      <td>3</td>\n",
       "      <td>Alice Springs</td>\n",
       "      <td>0</td>\n",
       "      <td>AU</td>\n",
       "      <td>1580003146</td>\n",
       "      <td>11</td>\n",
       "      <td>-23.70</td>\n",
       "      <td>133.88</td>\n",
       "      <td>91.40</td>\n",
       "      <td>16.11</td>\n",
       "    </tr>\n",
       "    <tr>\n",
       "      <td>4</td>\n",
       "      <td>Poum</td>\n",
       "      <td>100</td>\n",
       "      <td>NC</td>\n",
       "      <td>1580003261</td>\n",
       "      <td>82</td>\n",
       "      <td>-20.23</td>\n",
       "      <td>164.02</td>\n",
       "      <td>79.77</td>\n",
       "      <td>21.39</td>\n",
       "    </tr>\n",
       "  </tbody>\n",
       "</table>\n",
       "</div>"
      ],
      "text/plain": [
       "            City  Cloudiness Country        Date  Humidity    Lat     Lng  \\\n",
       "0       Coihueco           0      CL  1580003261        42 -36.62  -71.83   \n",
       "1   Kruisfontein          89      ZA  1580003261        87 -34.00   24.73   \n",
       "2      Martapura          40      ID  1580003161        88  -3.42  114.85   \n",
       "3  Alice Springs           0      AU  1580003146        11 -23.70  133.88   \n",
       "4           Poum         100      NC  1580003261        82 -20.23  164.02   \n",
       "\n",
       "   Max Temp  Wind Speed  \n",
       "0     80.60       11.41  \n",
       "1     64.71       22.73  \n",
       "2     80.60        3.36  \n",
       "3     91.40       16.11  \n",
       "4     79.77       21.39  "
      ]
     },
     "execution_count": 6,
     "metadata": {},
     "output_type": "execute_result"
    }
   ],
   "source": [
    "#viewing data\n",
    "df.head()"
   ]
  },
  {
   "cell_type": "markdown",
   "metadata": {},
   "source": [
    "### Plotting the Data\n",
    "* Use proper labeling of the plots using plot titles (including date of analysis) and axes labels.\n",
    "* Save the plotted figures as .pngs."
   ]
  },
  {
   "cell_type": "markdown",
   "metadata": {},
   "source": [
    "#### Latitude vs. Temperature Plot"
   ]
  },
  {
   "cell_type": "code",
   "execution_count": 7,
   "metadata": {
    "scrolled": false
   },
   "outputs": [
    {
     "data": {
      "image/png": "[encoded data removed]",
      "text/plain": [
       "<Figure size 432x288 with 1 Axes>"
      ]
     },
     "metadata": {
      "needs_background": "light"
     },
     "output_type": "display_data"
    }
   ],
   "source": [
    "#creating scatter plot\n",
    "plt.scatter(df[\"Lat\"], df[\"Max Temp\"], marker=\"o\", s=10)\n",
    "plt.title(\"City Latitude vs. Max Temperature (05/28/19)\")\n",
    "plt.ylabel(\"Max Temperature (F)\")\n",
    "plt.xlabel(\"Latitude\")\n",
    "plt.grid(True)\n",
    "plt.savefig('CityLatitudevsMaxTemperature.png')\n",
    "plt.show()"
   ]
  },
  {
   "cell_type": "markdown",
   "metadata": {},
   "source": [
    "#### Latitude vs. Humidity Plot"
   ]
  },
  {
   "cell_type": "code",
   "execution_count": 8,
   "metadata": {},
   "outputs": [
    {
     "data": {
      "image/png": "[encoded data removed]",
      "text/plain": [
       "<Figure size 432x288 with 1 Axes>"
      ]
     },
     "metadata": {
      "needs_background": "light"
     },
     "output_type": "display_data"
    }
   ],
   "source": [
    "#creating scatter plot\n",
    "plt.scatter(df[\"Lat\"], df[\"Humidity\"], marker=\"o\", s=10)\n",
    "plt.title(\"City Latitude vs. Humidity (05/28/19)\")\n",
    "plt.ylabel(\"Humidity (%)\")\n",
    "plt.xlabel(\"Latitude\")\n",
    "plt.grid(True)\n",
    "plt.savefig('CityLatitudevsHumidity.png')\n",
    "plt.show()"
   ]
  },
  {
   "cell_type": "markdown",
   "metadata": {},
   "source": [
    "#### Latitude vs. Cloudiness Plot"
   ]
  },
  {
   "cell_type": "code",
   "execution_count": 9,
   "metadata": {},
   "outputs": [
    {
     "data": {
      "image/png": "[encoded data removed]",
      "text/plain": [
       "<Figure size 432x288 with 1 Axes>"
      ]
     },
     "metadata": {
      "needs_background": "light"
     },
     "output_type": "display_data"
    }
   ],
   "source": [
    "#creating scatter plot\n",
    "plt.scatter(df[\"Lat\"], df[\"Cloudiness\"], marker=\"o\", s=10)\n",
    "plt.title(\"City Latitude vs. Cloudiness (08/22/18)\")\n",
    "plt.ylabel(\"Cloudiness (%)\")\n",
    "plt.xlabel(\"Latitude\")\n",
    "plt.grid(True)\n",
    "plt.savefig('CityLatitudevsCloudiness.png')\n",
    "plt.show()"
   ]
  },
  {
   "cell_type": "markdown",
   "metadata": {},
   "source": [
    "#### Latitude vs. Wind Speed Plot"
   ]
  },
  {
   "cell_type": "code",
   "execution_count": 10,
   "metadata": {},
   "outputs": [
    {
     "data": {
      "image/png": "[encoded data removed]",
      "text/plain": [
       "<Figure size 432x288 with 1 Axes>"
      ]
     },
     "metadata": {
      "needs_background": "light"
     },
     "output_type": "display_data"
    }
   ],
   "source": [
    "#creating scatter plot\n",
    "plt.scatter(df[\"Lat\"], df[\"Wind Speed\"], marker=\"o\", s=10)\n",
    "plt.title(\"City Latitude vs. Wind Speed (05/28/19)\")\n",
    "plt.ylabel(\"Wind Speed (mph)\")\n",
    "plt.xlabel(\"Latitude\")\n",
    "plt.grid(True)\n",
    "plt.savefig('CityLatitudevsWindSpeed.png')\n",
    "plt.show()"
   ]
  },
  {
   "cell_type": "markdown",
   "metadata": {},
   "source": [
    "## Linear Regression"
   ]
  },
  {
   "cell_type": "code",
   "execution_count": 11,
   "metadata": {},
   "outputs": [],
   "source": [
    "# OPTIONAL: Create a function to create Linear Regression plots\n"
   ]
  },
  {
   "cell_type": "code",
   "execution_count": 12,
   "metadata": {},
   "outputs": [
    {
     "data": {
      "text/html": [
       "<div>\n",
       "<style scoped>\n",
       "    .dataframe tbody tr th:only-of-type {\n",
       "        vertical-align: middle;\n",
       "    }\n",
       "\n",
       "    .dataframe tbody tr th {\n",
       "        vertical-align: top;\n",
       "    }\n",
       "\n",
       "    .dataframe thead th {\n",
       "        text-align: right;\n",
       "    }\n",
       "</style>\n",
       "<table border=\"1\" class=\"dataframe\">\n",
       "  <thead>\n",
       "    <tr style=\"text-align: right;\">\n",
       "      <th></th>\n",
       "      <th>City</th>\n",
       "      <th>Cloudiness</th>\n",
       "      <th>Country</th>\n",
       "      <th>Date</th>\n",
       "      <th>Humidity</th>\n",
       "      <th>Lat</th>\n",
       "      <th>Lng</th>\n",
       "      <th>Max Temp</th>\n",
       "      <th>Wind Speed</th>\n",
       "    </tr>\n",
       "  </thead>\n",
       "  <tbody>\n",
       "    <tr>\n",
       "      <td>6</td>\n",
       "      <td>Kapaa</td>\n",
       "      <td>40</td>\n",
       "      <td>US</td>\n",
       "      <td>1580002966</td>\n",
       "      <td>74</td>\n",
       "      <td>22.08</td>\n",
       "      <td>-159.32</td>\n",
       "      <td>80.60</td>\n",
       "      <td>10.29</td>\n",
       "    </tr>\n",
       "    <tr>\n",
       "      <td>7</td>\n",
       "      <td>Nagar Karnul</td>\n",
       "      <td>6</td>\n",
       "      <td>IN</td>\n",
       "      <td>1580003262</td>\n",
       "      <td>61</td>\n",
       "      <td>16.48</td>\n",
       "      <td>78.32</td>\n",
       "      <td>72.37</td>\n",
       "      <td>3.94</td>\n",
       "    </tr>\n",
       "    <tr>\n",
       "      <td>9</td>\n",
       "      <td>Baker City</td>\n",
       "      <td>90</td>\n",
       "      <td>US</td>\n",
       "      <td>1580003262</td>\n",
       "      <td>80</td>\n",
       "      <td>44.77</td>\n",
       "      <td>-117.83</td>\n",
       "      <td>41.00</td>\n",
       "      <td>4.70</td>\n",
       "    </tr>\n",
       "    <tr>\n",
       "      <td>10</td>\n",
       "      <td>Sao Filipe</td>\n",
       "      <td>21</td>\n",
       "      <td>CV</td>\n",
       "      <td>1580003262</td>\n",
       "      <td>63</td>\n",
       "      <td>14.90</td>\n",
       "      <td>-24.50</td>\n",
       "      <td>73.94</td>\n",
       "      <td>18.75</td>\n",
       "    </tr>\n",
       "    <tr>\n",
       "      <td>12</td>\n",
       "      <td>Nikolskoye</td>\n",
       "      <td>40</td>\n",
       "      <td>RU</td>\n",
       "      <td>1580003262</td>\n",
       "      <td>79</td>\n",
       "      <td>59.70</td>\n",
       "      <td>30.79</td>\n",
       "      <td>30.99</td>\n",
       "      <td>4.47</td>\n",
       "    </tr>\n",
       "  </tbody>\n",
       "</table>\n",
       "</div>"
      ],
      "text/plain": [
       "            City  Cloudiness Country        Date  Humidity    Lat     Lng  \\\n",
       "6          Kapaa          40      US  1580002966        74  22.08 -159.32   \n",
       "7   Nagar Karnul           6      IN  1580003262        61  16.48   78.32   \n",
       "9     Baker City          90      US  1580003262        80  44.77 -117.83   \n",
       "10    Sao Filipe          21      CV  1580003262        63  14.90  -24.50   \n",
       "12    Nikolskoye          40      RU  1580003262        79  59.70   30.79   \n",
       "\n",
       "    Max Temp  Wind Speed  \n",
       "6      80.60       10.29  \n",
       "7      72.37        3.94  \n",
       "9      41.00        4.70  \n",
       "10     73.94       18.75  \n",
       "12     30.99        4.47  "
      ]
     },
     "execution_count": 12,
     "metadata": {},
     "output_type": "execute_result"
    }
   ],
   "source": [
    "# Create Northern and Southern Hemisphere DataFrames\n",
    "northern=df.loc[df[\"Lat\"] >= 0]\n",
    "northern.to_csv(\"../output_data/northerndata.csv\")\n",
    "northern.head()"
   ]
  },
  {
   "cell_type": "code",
   "execution_count": 13,
   "metadata": {},
   "outputs": [
    {
     "data": {
      "text/html": [
       "<div>\n",
       "<style scoped>\n",
       "    .dataframe tbody tr th:only-of-type {\n",
       "        vertical-align: middle;\n",
       "    }\n",
       "\n",
       "    .dataframe tbody tr th {\n",
       "        vertical-align: top;\n",
       "    }\n",
       "\n",
       "    .dataframe thead th {\n",
       "        text-align: right;\n",
       "    }\n",
       "</style>\n",
       "<table border=\"1\" class=\"dataframe\">\n",
       "  <thead>\n",
       "    <tr style=\"text-align: right;\">\n",
       "      <th></th>\n",
       "      <th>City</th>\n",
       "      <th>Cloudiness</th>\n",
       "      <th>Country</th>\n",
       "      <th>Date</th>\n",
       "      <th>Humidity</th>\n",
       "      <th>Lat</th>\n",
       "      <th>Lng</th>\n",
       "      <th>Max Temp</th>\n",
       "      <th>Wind Speed</th>\n",
       "    </tr>\n",
       "  </thead>\n",
       "  <tbody>\n",
       "    <tr>\n",
       "      <td>0</td>\n",
       "      <td>Coihueco</td>\n",
       "      <td>0</td>\n",
       "      <td>CL</td>\n",
       "      <td>1580003261</td>\n",
       "      <td>42</td>\n",
       "      <td>-36.62</td>\n",
       "      <td>-71.83</td>\n",
       "      <td>80.60</td>\n",
       "      <td>11.41</td>\n",
       "    </tr>\n",
       "    <tr>\n",
       "      <td>1</td>\n",
       "      <td>Kruisfontein</td>\n",
       "      <td>89</td>\n",
       "      <td>ZA</td>\n",
       "      <td>1580003261</td>\n",
       "      <td>87</td>\n",
       "      <td>-34.00</td>\n",
       "      <td>24.73</td>\n",
       "      <td>64.71</td>\n",
       "      <td>22.73</td>\n",
       "    </tr>\n",
       "    <tr>\n",
       "      <td>2</td>\n",
       "      <td>Martapura</td>\n",
       "      <td>40</td>\n",
       "      <td>ID</td>\n",
       "      <td>1580003161</td>\n",
       "      <td>88</td>\n",
       "      <td>-3.42</td>\n",
       "      <td>114.85</td>\n",
       "      <td>80.60</td>\n",
       "      <td>3.36</td>\n",
       "    </tr>\n",
       "    <tr>\n",
       "      <td>3</td>\n",
       "      <td>Alice Springs</td>\n",
       "      <td>0</td>\n",
       "      <td>AU</td>\n",
       "      <td>1580003146</td>\n",
       "      <td>11</td>\n",
       "      <td>-23.70</td>\n",
       "      <td>133.88</td>\n",
       "      <td>91.40</td>\n",
       "      <td>16.11</td>\n",
       "    </tr>\n",
       "    <tr>\n",
       "      <td>4</td>\n",
       "      <td>Poum</td>\n",
       "      <td>100</td>\n",
       "      <td>NC</td>\n",
       "      <td>1580003261</td>\n",
       "      <td>82</td>\n",
       "      <td>-20.23</td>\n",
       "      <td>164.02</td>\n",
       "      <td>79.77</td>\n",
       "      <td>21.39</td>\n",
       "    </tr>\n",
       "  </tbody>\n",
       "</table>\n",
       "</div>"
      ],
      "text/plain": [
       "            City  Cloudiness Country        Date  Humidity    Lat     Lng  \\\n",
       "0       Coihueco           0      CL  1580003261        42 -36.62  -71.83   \n",
       "1   Kruisfontein          89      ZA  1580003261        87 -34.00   24.73   \n",
       "2      Martapura          40      ID  1580003161        88  -3.42  114.85   \n",
       "3  Alice Springs           0      AU  1580003146        11 -23.70  133.88   \n",
       "4           Poum         100      NC  1580003261        82 -20.23  164.02   \n",
       "\n",
       "   Max Temp  Wind Speed  \n",
       "0     80.60       11.41  \n",
       "1     64.71       22.73  \n",
       "2     80.60        3.36  \n",
       "3     91.40       16.11  \n",
       "4     79.77       21.39  "
      ]
     },
     "execution_count": 13,
     "metadata": {},
     "output_type": "execute_result"
    }
   ],
   "source": [
    "southern=df.loc[df[\"Lat\"]<0]\n",
    "southern.to_csv(\"../output_data/southerndata.csv\")\n",
    "southern.head()"
   ]
  },
  {
   "cell_type": "markdown",
   "metadata": {},
   "source": [
    "####  Northern Hemisphere - Max Temp vs. Latitude Linear Regression"
   ]
  },
  {
   "cell_type": "code",
   "execution_count": 14,
   "metadata": {},
   "outputs": [
    {
     "name": "stdout",
     "output_type": "stream",
     "text": [
      "The r-squared is: -0.8648722511504701\n"
     ]
    },
    {
     "data": {
      "image/png": "[encoded data removed]",
      "text/plain": [
       "<Figure size 432x288 with 1 Axes>"
      ]
     },
     "metadata": {
      "needs_background": "light"
     },
     "output_type": "display_data"
    }
   ],
   "source": [
    "#linear regress on scatter plot\n",
    "x_values = northern['Lat']\n",
    "y_values = northern['Max Temp']\n",
    "(slope, intercept, rvalue, pvalue, stderr) = linregress(x_values, y_values)\n",
    "regress_values = x_values * slope + intercept\n",
    "line_eq = \"y = \" + str(round(slope,2)) + \"x + \" + str(round(intercept,2))\n",
    "plt.scatter(x_values,y_values)\n",
    "plt.plot(x_values,regress_values,\"r-\")\n",
    "plt.annotate(line_eq,(6,10),fontsize=15,color=\"red\")\n",
    "plt.xlabel('Latitude')\n",
    "plt.ylabel('Max Temperature (F)')\n",
    "print(f\"The r-squared is: {rvalue}\")\n",
    "plt.title(\"Northern Hemisphere - Max Temp vs. Latitude Linear Regression\")\n",
    "plt.savefig('A.png')\n",
    "plt.show()"
   ]
  },
  {
   "cell_type": "markdown",
   "metadata": {},
   "source": [
    "####  Southern Hemisphere - Max Temp vs. Latitude Linear Regression"
   ]
  },
  {
   "cell_type": "code",
   "execution_count": 15,
   "metadata": {},
   "outputs": [
    {
     "name": "stdout",
     "output_type": "stream",
     "text": [
      "The r-squared is: 0.3249871097537999\n"
     ]
    },
    {
     "data": {
      "image/png": "[encoded data removed]",
      "text/plain": [
       "<Figure size 432x288 with 1 Axes>"
      ]
     },
     "metadata": {
      "needs_background": "light"
     },
     "output_type": "display_data"
    }
   ],
   "source": [
    "#linear regress on scatter plot\n",
    "x_values = southern['Lat']\n",
    "y_values = southern['Max Temp']\n",
    "(slope, intercept, rvalue, pvalue, stderr) = linregress(x_values, y_values)\n",
    "regress_values = x_values * slope + intercept\n",
    "line_eq = \"y = \" + str(round(slope,2)) + \"x + \" + str(round(intercept,2))\n",
    "plt.scatter(x_values,y_values)\n",
    "plt.plot(x_values,regress_values,\"r-\")\n",
    "plt.annotate(line_eq,(6,10),fontsize=15,color=\"red\")\n",
    "plt.xlabel('Latitude')\n",
    "plt.ylabel('Max Temperature (F)')\n",
    "print(f\"The r-squared is: {rvalue}\")\n",
    "plt.title(\"Southern Hemisphere - Max Temp vs. Latitude Linear Regression\")\n",
    "plt.savefig('B.png')\n",
    "plt.show()"
   ]
  },
  {
   "cell_type": "markdown",
   "metadata": {},
   "source": [
    "####  Northern Hemisphere - Humidity (%) vs. Latitude Linear Regression"
   ]
  },
  {
   "cell_type": "code",
   "execution_count": 16,
   "metadata": {},
   "outputs": [
    {
     "name": "stdout",
     "output_type": "stream",
     "text": [
      "The r-squared is: 0.38907349457151064\n"
     ]
    },
    {
     "data": {
      "image/png": "[encoded data removed]",
      "text/plain": [
       "<Figure size 432x288 with 1 Axes>"
      ]
     },
     "metadata": {
      "needs_background": "light"
     },
     "output_type": "display_data"
    }
   ],
   "source": [
    "#linear regress on scatter plot\n",
    "x_values = northern['Lat']\n",
    "y_values = northern['Humidity']\n",
    "(slope, intercept, rvalue, pvalue, stderr) = linregress(x_values, y_values)\n",
    "regress_values = x_values * slope + intercept\n",
    "line_eq = \"y = \" + str(round(slope,2)) + \"x + \" + str(round(intercept,2))\n",
    "plt.scatter(x_values,y_values)\n",
    "plt.plot(x_values,regress_values,\"r-\")\n",
    "plt.annotate(line_eq,(6,10),fontsize=15,color=\"red\")\n",
    "plt.xlabel('Latitude')\n",
    "plt.ylabel('Humidity (%)')\n",
    "print(f\"The r-squared is: {rvalue}\")\n",
    "plt.title(\"Northern Hemisphere - Humidity (%) vs. Latitude Linear Regression\")\n",
    "plt.savefig('C.png')\n",
    "plt.show()"
   ]
  },
  {
   "cell_type": "markdown",
   "metadata": {},
   "source": [
    "####  Southern Hemisphere - Humidity (%) vs. Latitude Linear Regression"
   ]
  },
  {
   "cell_type": "code",
   "execution_count": 17,
   "metadata": {},
   "outputs": [
    {
     "name": "stdout",
     "output_type": "stream",
     "text": [
      "The r-squared is: 0.2954050828319218\n"
     ]
    },
    {
     "data": {
      "image/png": "[encoded data removed]",
      "text/plain": [
       "<Figure size 432x288 with 1 Axes>"
      ]
     },
     "metadata": {
      "needs_background": "light"
     },
     "output_type": "display_data"
    }
   ],
   "source": [
    "#linear regress on scatter plot\n",
    "x_values = southern['Lat']\n",
    "y_values = southern['Humidity']\n",
    "(slope, intercept, rvalue, pvalue, stderr) = linregress(x_values, y_values)\n",
    "regress_values = x_values * slope + intercept\n",
    "line_eq = \"y = \" + str(round(slope,2)) + \"x + \" + str(round(intercept,2))\n",
    "plt.scatter(x_values,y_values)\n",
    "plt.plot(x_values,regress_values,\"r-\")\n",
    "plt.annotate(line_eq,(6,10),fontsize=15,color=\"red\")\n",
    "plt.xlabel('Latitude')\n",
    "plt.ylabel('Humidity (%)')\n",
    "print(f\"The r-squared is: {rvalue}\")\n",
    "plt.title(\"Southern Hemisphere - Humidity (%) vs. Latitude Linear Regression\")\n",
    "plt.savefig('D.png')\n",
    "plt.show()"
   ]
  },
  {
   "cell_type": "markdown",
   "metadata": {},
   "source": [
    "####  Northern Hemisphere - Cloudiness (%) vs. Latitude Linear Regression"
   ]
  },
  {
   "cell_type": "code",
   "execution_count": 18,
   "metadata": {},
   "outputs": [
    {
     "name": "stdout",
     "output_type": "stream",
     "text": [
      "The r-squared is: 0.2442848835863815\n"
     ]
    },
    {
     "data": {
      "image/png": "[encoded data removed]",
      "text/plain": [
       "<Figure size 432x288 with 1 Axes>"
      ]
     },
     "metadata": {
      "needs_background": "light"
     },
     "output_type": "display_data"
    }
   ],
   "source": [
    "#linear regress on scatter plot\n",
    "x_values = northern['Lat']\n",
    "y_values = northern['Cloudiness']\n",
    "(slope, intercept, rvalue, pvalue, stderr) = linregress(x_values, y_values)\n",
    "regress_values = x_values * slope + intercept\n",
    "line_eq = \"y = \" + str(round(slope,2)) + \"x + \" + str(round(intercept,2))\n",
    "plt.scatter(x_values,y_values)\n",
    "plt.plot(x_values,regress_values,\"r-\")\n",
    "plt.annotate(line_eq,(6,10),fontsize=15,color=\"red\")\n",
    "plt.xlabel('Latitude')\n",
    "plt.ylabel('Cloudiness (%)')\n",
    "print(f\"The r-squared is: {rvalue}\")\n",
    "plt.title(\"Northern Hemisphere - Cloudiness (%) vs. Latitude Linear Regression\")\n",
    "plt.savefig('E.png')\n",
    "plt.show()"
   ]
  },
  {
   "cell_type": "markdown",
   "metadata": {},
   "source": [
    "####  Southern Hemisphere - Cloudiness (%) vs. Latitude Linear Regression"
   ]
  },
  {
   "cell_type": "code",
   "execution_count": 19,
   "metadata": {},
   "outputs": [
    {
     "name": "stdout",
     "output_type": "stream",
     "text": [
      "The r-squared is: 0.2621348812804249\n"
     ]
    },
    {
     "data": {
      "image/png": "[encoded data removed]",
      "text/plain": [
       "<Figure size 432x288 with 1 Axes>"
      ]
     },
     "metadata": {
      "needs_background": "light"
     },
     "output_type": "display_data"
    }
   ],
   "source": [
    "#linear regress on scatter plot\n",
    "x_values = southern['Lat']\n",
    "y_values = southern['Cloudiness']\n",
    "(slope, intercept, rvalue, pvalue, stderr) = linregress(x_values, y_values)\n",
    "regress_values = x_values * slope + intercept\n",
    "line_eq = \"y = \" + str(round(slope,2)) + \"x + \" + str(round(intercept,2))\n",
    "plt.scatter(x_values,y_values)\n",
    "plt.plot(x_values,regress_values,\"r-\")\n",
    "plt.annotate(line_eq,(6,10),fontsize=15,color=\"red\")\n",
    "plt.xlabel('Latitude')\n",
    "plt.ylabel('Cloudiness (%)')\n",
    "print(f\"The r-squared is: {rvalue}\")\n",
    "plt.title(\"Southern Hemisphere - Cloudiness (%) vs. Latitude Linear Regression\")\n",
    "plt.savefig('F.png')\n",
    "plt.show()"
   ]
  },
  {
   "cell_type": "markdown",
   "metadata": {},
   "source": [
    "####  Northern Hemisphere - Wind Speed (mph) vs. Latitude Linear Regression"
   ]
  },
  {
   "cell_type": "code",
   "execution_count": 20,
   "metadata": {},
   "outputs": [
    {
     "name": "stdout",
     "output_type": "stream",
     "text": [
      "The r-squared is: 0.2178735800313392\n"
     ]
    },
    {
     "data": {
      "image/png": "[encoded data removed]",
      "text/plain": [
       "<Figure size 432x288 with 1 Axes>"
      ]
     },
     "metadata": {
      "needs_background": "light"
     },
     "output_type": "display_data"
    }
   ],
   "source": [
    "#linear regress on scatter plot\n",
    "x_values = northern['Lat']\n",
    "y_values = northern['Wind Speed']\n",
    "(slope, intercept, rvalue, pvalue, stderr) = linregress(x_values, y_values)\n",
    "regress_values = x_values * slope + intercept\n",
    "line_eq = \"y = \" + str(round(slope,2)) + \"x + \" + str(round(intercept,2))\n",
    "plt.scatter(x_values,y_values)\n",
    "plt.plot(x_values,regress_values,\"r-\")\n",
    "plt.annotate(line_eq,(6,10),fontsize=15,color=\"red\")\n",
    "plt.xlabel('Latitude')\n",
    "plt.ylabel('Wind Speed (mph)')\n",
    "print(f\"The r-squared is: {rvalue}\")\n",
    "plt.title(\"Northern Hemisphere - Wind Speed (mph) vs. Latitude Linear Regression\")\n",
    "plt.savefig('G.png')\n",
    "plt.show()"
   ]
  },
  {
   "cell_type": "markdown",
   "metadata": {},
   "source": [
    "####  Southern Hemisphere - Wind Speed (mph) vs. Latitude Linear Regression"
   ]
  },
  {
   "cell_type": "code",
   "execution_count": 21,
   "metadata": {},
   "outputs": [
    {
     "name": "stdout",
     "output_type": "stream",
     "text": [
      "The r-squared is: -0.4152713470919032\n"
     ]
    },
    {
     "data": {
      "image/png": "[encoded data removed]",
      "text/plain": [
       "<Figure size 432x288 with 1 Axes>"
      ]
     },
     "metadata": {
      "needs_background": "light"
     },
     "output_type": "display_data"
    }
   ],
   "source": [
    "#linear regress on scatter plot\n",
    "x_values = southern['Lat']\n",
    "y_values = southern['Wind Speed']\n",
    "(slope, intercept, rvalue, pvalue, stderr) = linregress(x_values, y_values)\n",
    "regress_values = x_values * slope + intercept\n",
    "line_eq = \"y = \" + str(round(slope,2)) + \"x + \" + str(round(intercept,2))\n",
    "plt.scatter(x_values,y_values)\n",
    "plt.plot(x_values,regress_values,\"r-\")\n",
    "plt.annotate(line_eq,(6,10),fontsize=15,color=\"red\")\n",
    "plt.xlabel('Latitude')\n",
    "plt.ylabel('Wind Speed (mph)')\n",
    "print(f\"The r-squared is: {rvalue}\")\n",
    "plt.title(\"Southern Hemisphere - Wind Speed (mph) vs. Latitude Linear Regression\")\n",
    "plt.savefig('H.png')\n",
    "plt.show()"
   ]
  },
  {
   "cell_type": "code",
   "execution_count": 22,
   "metadata": {},
   "outputs": [],
   "source": [
    "# Observations\n",
    "# From the charts the higher temperatures tend to be between -20 and 0 latitude. \n",
    "# Humidity is pretty even throughout latitudes.\n",
    "# Windspeed is generally less than 20 mph and majority is less than 10 mph.\n",
    "# There is a strong relationship viewed in the Northern Max Temp vs. Lat."
   ]
  },
  {
   "cell_type": "code",
   "execution_count": null,
   "metadata": {},
   "outputs": [],
   "source": []
  }
 ],
 "metadata": {
  "anaconda-cloud": {},
  "kernel_info": {
   "name": "python3"
  },
  "kernelspec": {
   "display_name": "Python 3",
   "language": "python",
   "name": "python3"
  },
  "language_info": {
   "codemirror_mode": {
    "name": "ipython",
    "version": 3
   },
   "file_extension": ".py",
   "mimetype": "text/x-python",
   "name": "python",
   "nbconvert_exporter": "python",
   "pygments_lexer": "ipython3",
   "version": "3.7.4"
  },
  "latex_envs": {
   "LaTeX_envs_menu_present": true,
   "autoclose": false,
   "autocomplete": true,
   "bibliofile": "biblio.bib",
   "cite_by": "apalike",
   "current_citInitial": 1,
   "eqLabelWithNumbers": true,
   "eqNumInitial": 1,
   "hotkeys": {
    "equation": "Ctrl-E",
    "itemize": "Ctrl-I"
   },
   "labels_anchors": false,
   "latex_user_defs": false,
   "report_style_numbering": false,
   "user_envs_cfg": false
  },
  "nteract": {
   "version": "0.12.3"
  }
 },
 "nbformat": 4,
 "nbformat_minor": 2
}
